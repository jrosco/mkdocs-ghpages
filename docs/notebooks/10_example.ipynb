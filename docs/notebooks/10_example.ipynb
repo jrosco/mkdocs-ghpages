{
 "cells": [
  {
   "cell_type": "markdown",
   "metadata": {},
   "source": [
    "# Example Notebook\n",
    "This is an example Jupyter Notebook rendered by MkDocs!"
   ]
  },
  {
   "cell_type": "code",
   "execution_count": 1,
   "metadata": {
    "execution": {
     "iopub.execute_input": "2025-04-06T06:25:43.860384Z",
     "iopub.status.busy": "2025-04-06T06:25:43.860279Z",
     "iopub.status.idle": "2025-04-06T06:25:43.864136Z",
     "shell.execute_reply": "2025-04-06T06:25:43.863916Z"
    }
   },
   "outputs": [
    {
     "name": "stdout",
     "output_type": "stream",
     "text": [
      "Hello from a notebook!\n"
     ]
    }
   ],
   "source": [
    "print(\"Hello from a notebook!\")"
   ]
  }
 ],
 "metadata": {
  "kernelspec": {
   "display_name": "Python 3",
   "language": "python",
   "name": "python3"
  },
  "language_info": {
   "codemirror_mode": {
    "name": "ipython",
    "version": 3
   },
   "file_extension": ".py",
   "mimetype": "text/x-python",
   "name": "python",
   "nbconvert_exporter": "python",
   "pygments_lexer": "ipython3",
   "version": "3.11.0"
  }
 },
 "nbformat": 4,
 "nbformat_minor": 2
}
